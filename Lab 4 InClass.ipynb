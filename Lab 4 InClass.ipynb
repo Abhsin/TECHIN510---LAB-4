{
 "cells": [
  {
   "cell_type": "code",
   "execution_count": 1,
   "metadata": {},
   "outputs": [],
   "source": [
    "import re"
   ]
  },
  {
   "cell_type": "code",
   "execution_count": 2,
   "metadata": {},
   "outputs": [
    {
     "data": {
      "text/plain": [
       "['<a href=\"https://amazon.com/p/1234567890/awesome-product-1\">']"
      ]
     },
     "execution_count": 2,
     "metadata": {},
     "output_type": "execute_result"
    }
   ],
   "source": [
    "s = '''\n",
    "<a href=\"https://amazon.com/categories/ski\">Ski</a>\n",
    "<a href=\"https://amazon.com/p/1234567890/awesome-product-1\">Coffee beans</a>\n",
    "<a href=\"https://amazon.com/p/6454343333/ok-product-2\">Backcountry Ski</a>\n",
    "<a href=\"https://amazon.com/p/6543565454/great-product-1\">Book</a>\n",
    "<a href=\"https://amazon.com/about-us\">About Us</a>\n",
    "'''\n",
    "\n",
    "# Extract only the product links\n",
    "# Expected output:\n",
    "# https://amazon.com/p/1234567890/awesome-product-1\n",
    "# https://amazon.com/p/6454343333/ok-product-2\n",
    "# https://amazon.com/p/6543565454/great-product-1\n",
    "\n",
    "re.findall(r'<a href=\"https://amazon.com/p/1234567890/awesome-product-1\">', s)"
   ]
  },
  {
   "cell_type": "code",
   "execution_count": 7,
   "metadata": {},
   "outputs": [
    {
     "data": {
      "text/plain": [
       "['<a href=\"https://amazon.com/p/1234567890/awesome-product-1\">',\n",
       " '<a href=\"https://amazon.com/p/6454343333/ok-product-2\">',\n",
       " '<a href=\"https://amazon.com/p/6543565454/great-product-1\">']"
      ]
     },
     "execution_count": 7,
     "metadata": {},
     "output_type": "execute_result"
    }
   ],
   "source": [
    "re.findall(r'<a href=\"https://amazon.com/p/\\d+/.+?\">', s)"
   ]
  },
  {
   "cell_type": "code",
   "execution_count": 5,
   "metadata": {},
   "outputs": [
    {
     "data": {
      "text/plain": [
       "['https://amazon.com/p/1234567890/awesome-product-1',\n",
       " 'https://amazon.com/p/6454343333/ok-product-2',\n",
       " 'https://amazon.com/p/6543565454/great-product-1']"
      ]
     },
     "execution_count": 5,
     "metadata": {},
     "output_type": "execute_result"
    }
   ],
   "source": [
    "re.findall(r'<a href=\"(https://amazon.com/p/\\d+/.+)\">', s)"
   ]
  },
  {
   "cell_type": "markdown",
   "metadata": {},
   "source": [
    "# -------------------------------------------------------------------------------------"
   ]
  },
  {
   "cell_type": "code",
   "execution_count": 9,
   "metadata": {},
   "outputs": [],
   "source": [
    "import datetime\n",
    "from zoneinfo import ZoneInfo"
   ]
  },
  {
   "cell_type": "code",
   "execution_count": 10,
   "metadata": {},
   "outputs": [
    {
     "data": {
      "text/plain": [
       "datetime.datetime(2024, 1, 30, 14, 25, 43, 868058, tzinfo=zoneinfo.ZoneInfo(key='America/Los_Angeles'))"
      ]
     },
     "execution_count": 10,
     "metadata": {},
     "output_type": "execute_result"
    }
   ],
   "source": [
    "now = datetime.datetime.now(tz=ZoneInfo(\"America/Los_Angeles\"))\n",
    "now"
   ]
  },
  {
   "cell_type": "code",
   "execution_count": 11,
   "metadata": {},
   "outputs": [
    {
     "data": {
      "text/plain": [
       "datetime.datetime(2024, 1, 30, 23, 25, 43, 868058, tzinfo=zoneinfo.ZoneInfo(key='Europe/Amsterdam'))"
      ]
     },
     "execution_count": 11,
     "metadata": {},
     "output_type": "execute_result"
    }
   ],
   "source": [
    "now.astimezone(ZoneInfo(\"Europe/Amsterdam\"))"
   ]
  },
  {
   "cell_type": "code",
   "execution_count": 15,
   "metadata": {},
   "outputs": [
    {
     "data": {
      "text/plain": [
       "datetime.datetime(2024, 1, 31, 7, 25, 43, 868058, tzinfo=zoneinfo.ZoneInfo(key='Asia/Tokyo'))"
      ]
     },
     "execution_count": 15,
     "metadata": {},
     "output_type": "execute_result"
    }
   ],
   "source": [
    "now.astimezone(ZoneInfo(\"Asia/Tokyo\"))"
   ]
  },
  {
   "cell_type": "code",
   "execution_count": 21,
   "metadata": {},
   "outputs": [
    {
     "data": {
      "text/plain": [
       "1706653543.868058"
      ]
     },
     "execution_count": 21,
     "metadata": {},
     "output_type": "execute_result"
    }
   ],
   "source": [
    "# Convert to UNIX timestamp\n",
    "now.timestamp()"
   ]
  },
  {
   "cell_type": "code",
   "execution_count": 18,
   "metadata": {},
   "outputs": [
    {
     "data": {
      "text/plain": [
       "'2024-01-30T14:25:43.868058-08:00'"
      ]
     },
     "execution_count": 18,
     "metadata": {},
     "output_type": "execute_result"
    }
   ],
   "source": [
    "now.isoformat()"
   ]
  },
  {
   "cell_type": "code",
   "execution_count": 19,
   "metadata": {},
   "outputs": [
    {
     "data": {
      "text/plain": [
       "datetime.datetime(2024, 1, 30, 0, 0, tzinfo=zoneinfo.ZoneInfo(key='Europe/Amsterdam'))"
      ]
     },
     "execution_count": 19,
     "metadata": {},
     "output_type": "execute_result"
    }
   ],
   "source": [
    "ams = datetime.datetime.strptime('2024-01-30', '%Y-%m-%d').replace(tzinfo=ZoneInfo(\"Europe/Amsterdam\"))\n",
    "ams"
   ]
  },
  {
   "cell_type": "code",
   "execution_count": 25,
   "metadata": {},
   "outputs": [
    {
     "data": {
      "text/plain": [
       "datetime.datetime(2024, 1, 30, 0, 0, tzinfo=zoneinfo.ZoneInfo(key='Asia/Tokyo'))"
      ]
     },
     "execution_count": 25,
     "metadata": {},
     "output_type": "execute_result"
    }
   ],
   "source": [
    "tyo = datetime.datetime.strptime('2024-01-30', '%Y-%m-%d').replace(tzinfo=ZoneInfo(\"Asia/Tokyo\"))\n",
    "tyo"
   ]
  },
  {
   "cell_type": "code",
   "execution_count": 26,
   "metadata": {},
   "outputs": [
    {
     "data": {
      "text/plain": [
       "'8:00:00'"
      ]
     },
     "execution_count": 26,
     "metadata": {},
     "output_type": "execute_result"
    }
   ],
   "source": [
    "str(ams - tyo)"
   ]
  }
 ],
 "metadata": {
  "kernelspec": {
   "display_name": "Python 3",
   "language": "python",
   "name": "python3"
  },
  "language_info": {
   "codemirror_mode": {
    "name": "ipython",
    "version": 3
   },
   "file_extension": ".py",
   "mimetype": "text/x-python",
   "name": "python",
   "nbconvert_exporter": "python",
   "pygments_lexer": "ipython3",
   "version": "3.12.1"
  }
 },
 "nbformat": 4,
 "nbformat_minor": 2
}
